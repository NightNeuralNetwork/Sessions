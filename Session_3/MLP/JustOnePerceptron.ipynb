{
 "cells": [
  {
   "cell_type": "markdown",
   "metadata": {},
   "source": [
    "\n",
    "But de l'exercice : Comprendre le percepton par un exemple le plus simple possible.\n",
    "\n",
    "1 seul preceptron \n",
    "4 entrées de type 0/1\n",
    "1 seule sortie de type 0/1\n",
    "\n",
    "\n",
    "Apprendre à reconnaitre les deux motifs suivants : 1,0,0,0 => 1 et 0,0,1,0 => 0\n"
   ]
  },
  {
   "cell_type": "code",
   "execution_count": 9,
   "metadata": {},
   "outputs": [
    {
     "name": "stdout",
     "output_type": "stream",
     "text": [
      "[ 0.58641796  0.23996159  0.33738628  0.25291259]\n"
     ]
    }
   ],
   "source": [
    "import math \n",
    "import numpy as np\n",
    " \n",
    "# our sigmoid function, tanh is a little nicer than the standard 1/(1+e^-x)\n",
    "def sigmoid(x):\n",
    "    return np.tanh(x)\n",
    "\n",
    "poids = np.random.rand(4)\n",
    "\n",
    "print(poids)\n",
    "ap = 0.01"
   ]
  },
  {
   "cell_type": "code",
   "execution_count": 10,
   "metadata": {},
   "outputs": [
    {
     "name": "stdout",
     "output_type": "stream",
     "text": [
      "0.999983876297\n"
     ]
    }
   ],
   "source": [
    "def perceptron(e1, e2, e3, e4):\n",
    "    somme = e1 * poids[0] + e2 * poids[1] + e3 * poids[2] + e4 * poids[3]\n",
    "    \n",
    "    return sigmoid(somme)\n",
    "\n",
    "print(perceptron(10, 0, 0, 0))"
   ]
  },
  {
   "cell_type": "code",
   "execution_count": 16,
   "metadata": {},
   "outputs": [
    {
     "name": "stdout",
     "output_type": "stream",
     "text": [
      "[ 0.67928595  0.33282957  0.43025426  0.34578057]\n",
      "[  2.99491601e+00   3.32829573e-01   9.98127610e-45   3.45780570e-01]\n",
      "0.995004340214\n",
      "9.98127609952e-45\n"
     ]
    }
   ],
   "source": [
    "def train(e1, e2, e3, e4, r):\n",
    "    p = perceptron(e1, e2, e3, e4)\n",
    "    e = r-p\n",
    "    poids[0]= poids[0] + e*ap*e1\n",
    "    poids[1]= poids[1] + e*ap*e2\n",
    "    poids[2]= poids[2] + e*ap*e3\n",
    "    poids[3]= poids[3] + e*ap*e4\n",
    "    return (p,e)\n",
    "    \n",
    "print(poids)\n",
    "for i in range(10000):\n",
    "    train(1,0,0,0,1)\n",
    "    train(0,0,1,0,0)\n",
    "\n",
    "print(poids)\n",
    "print(perceptron(1,0,0,0))\n",
    "print(perceptron(0,0,1,0))\n"
   ]
  }
 ],
 "metadata": {
  "kernelspec": {
   "display_name": "Python 3",
   "language": "python",
   "name": "python3"
  },
  "language_info": {
   "codemirror_mode": {
    "name": "ipython",
    "version": 3
   },
   "file_extension": ".py",
   "mimetype": "text/x-python",
   "name": "python",
   "nbconvert_exporter": "python",
   "pygments_lexer": "ipython3",
   "version": "3.6.3"
  }
 },
 "nbformat": 4,
 "nbformat_minor": 2
}
