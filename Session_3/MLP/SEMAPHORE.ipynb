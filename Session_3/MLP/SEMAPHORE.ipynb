{
 "cells": [
  {
   "cell_type": "markdown",
   "metadata": {},
   "source": [
    "Ce code a été fait pendant les nuits de l'IA à Bordeaux\n",
    "\n"
   ]
  },
  {
   "cell_type": "code",
   "execution_count": 7,
   "metadata": {
    "collapsed": true
   },
   "outputs": [],
   "source": [
    "import math \n",
    "import numpy as np\n",
    " \n",
    "# our sigmoid function, tanh is a little nicer than the standard 1/(1+e^-x)\n",
    "def sigmoid(x):\n",
    "    return np.tanh(x)\n",
    " \n",
    "# derivative of our sigmoid function\n",
    "def dsigmoid(x):\n",
    "    return 1.0 - x**2\n",
    "     \n",
    "     \n",
    "class MLP:\n",
    "    def __init__(self, *args):\n",
    "        self.args = args\n",
    "        n = len(args)\n",
    "         \n",
    "        self.layers = [np.ones(args[i] + (i==0)) for i in range(0, n)]\n",
    "         \n",
    "        self.weights = list()\n",
    "        for i in range(n-1):\n",
    "            R = np.random.random((self.layers[i].size, self.layers[i+1].size))\n",
    "            self.weights.append((2*R-1)*0.20) # On initialize les poids dans [-0.2,0.2)\n",
    "             \n",
    "        self.m = [0 for i in range(len(self.weights))]\n",
    "             \n",
    "         \n",
    "    def predict(self, inputs):\n",
    "        self.layers[0][:-1] = inputs\n",
    "         \n",
    "        for i in range(1, len(self.layers)):\n",
    "            self.layers[i] = sigmoid(np.dot(self.layers[i-1], self.weights[i-1]))\n",
    "             \n",
    "        return np.round(self.layers[-1])\n",
    "         \n",
    "    def backPropagate(self, inputs, correctOutputs, a=0.1, m=0.1):\n",
    "         \n",
    "        error = correctOutputs - self.predict(inputs)\n",
    "        de = error * dsigmoid(self.layers[-1])\n",
    "        deltas = list()\n",
    "        deltas.append(de)\n",
    "         \n",
    "        for i in range(len(self.layers)-2, 0, -1):\n",
    " \n",
    "            deh = np.dot(deltas[-1], self.weights[i].T) * dsigmoid(self.layers[i])\n",
    "            deltas.append(deh)\n",
    "             \n",
    "        deltas.reverse()\n",
    "         \n",
    "        for i, j in enumerate(self.weights):\n",
    "             \n",
    "            layer = np.atleast_2d(self.layers[i])\n",
    "            delta = np.atleast_2d(deltas[i])\n",
    "             \n",
    "            dw = np.dot(layer.T,delta)\n",
    "            self.weights[i] += a*dw + m*self.m[i]\n",
    "            self.m[i] = dw\n",
    "            \n",
    "    def learn(self, inputs, correctResult):\n",
    "             self.backPropagate( inputs, correctResult)\n",
    " \n",
    " \n",
    " \n",
    "pat = (((0, 0, 0, 0),(0, 0, 0, 0, 0, 0, 0, 0, 0, 0)),\n",
    "    ((1, 0, 0, 0),(0, 1, 0, 0, 0, 0, 0, 0, 0, 0)),\n",
    "    ((1, 0, 1, 0),(0, 0, 1, 0, 0, 0, 0, 0, 0, 0)),\n",
    "    ((0, 1, 1, 0),(0, 0, 0, 1, 0, 0, 0, 0, 0, 0)),\n",
    "    ((0, 0, 1, 0),(0, 0, 0, 0, 1, 0, 0, 0, 0, 0)),\n",
    "    ((0, 1, 0, 1),(0, 0, 0, 0, 0, 1, 0, 0, 0, 0)),\n",
    "    ((1, 0, 0, 1),(0, 0, 0, 0, 0, 0, 1, 0, 0, 0)),\n",
    "    ((1, 1, 0, 0),(0, 0, 0, 0, 0, 0, 0, 1, 0, 0)),\n",
    "    ((0, 0, 1, 1),(0, 0, 0, 0, 0, 0, 0, 0, 1, 0)),\n",
    "    ((0, 1, 0, 0),(0, 0, 0, 0, 0, 0, 0, 0, 0, 1)))    \n",
    "\n",
    " \n",
    " \n",
    "n = MLP(4, 3, 10)"
   ]
  },
  {
   "cell_type": "code",
   "execution_count": null,
   "metadata": {
    "collapsed": true
   },
   "outputs": [],
   "source": []
  },
  {
   "cell_type": "code",
   "execution_count": 8,
   "metadata": {},
   "outputs": [
    {
     "name": "stdout",
     "output_type": "stream",
     "text": [
      "(0, 0, 0, 0) => [ 0.  0. -0. -0.  0.  0.  0.  0. -0. -0.]\n",
      "(1, 0, 0, 0) => [ 0.  0. -0. -0.  0.  0.  0.  0. -0. -0.]\n",
      "(1, 0, 1, 0) => [ 0.  0.  0.  0.  0.  0.  0. -0. -0. -0.]\n",
      "(0, 1, 1, 0) => [ 0. -0. -0.  0.  0.  0.  0.  0. -0. -0.]\n",
      "(0, 0, 1, 0) => [ 0.  0.  0. -0.  0.  0.  0. -0. -0. -0.]\n",
      "(0, 1, 0, 1) => [ 0. -0. -0.  0. -0. -0. -0.  0. -0. -0.]\n",
      "(1, 0, 0, 1) => [ 0. -0. -0.  0. -0. -0. -0.  0. -0. -0.]\n",
      "(1, 1, 0, 0) => [ 0. -0. -0.  0. -0. -0. -0.  0. -0. -0.]\n",
      "(0, 0, 1, 1) => [ 0. -0. -0.  0.  0.  0.  0.  0. -0. -0.]\n",
      "(0, 1, 0, 0) => [ 0. -0. -0.  0. -0. -0. -0.  0. -0. -0.]\n"
     ]
    }
   ],
   "source": [
    "# --- Test avant entrainement\n",
    "for p in pat:\n",
    "    print( p[0], \"=>\", n.predict(p[0]))"
   ]
  },
  {
   "cell_type": "code",
   "execution_count": 9,
   "metadata": {},
   "outputs": [
    {
     "name": "stdout",
     "output_type": "stream",
     "text": [
      "[array([[ 0.02173961,  0.05195645, -0.0452688 ],\n",
      "       [ 0.07361075,  0.07929892, -0.1892377 ],\n",
      "       [-0.14373878, -0.1580865 ,  0.15674964],\n",
      "       [ 0.00652301, -0.01444811, -0.19941808],\n",
      "       [ 0.03060356, -0.16259148,  0.03974297]]), array([[-0.0081784 ,  0.16047309,  0.00727066, -0.12051123, -0.04766845,\n",
      "        -0.17370336, -0.05520819,  0.05746444, -0.07831678,  0.14200646],\n",
      "       [-0.17791351,  0.01401809,  0.0191687 , -0.03803886, -0.08614389,\n",
      "        -0.12704051, -0.14856211, -0.10086125,  0.1877033 ,  0.0792308 ],\n",
      "       [-0.05537953,  0.15187383,  0.04307381, -0.13826675,  0.15398306,\n",
      "         0.03780507,  0.199595  , -0.15084086,  0.13869038,  0.14280448]])]\n",
      "[array([[-0.27245975, -0.72880298, -0.30300789],\n",
      "       [ 0.06407833, -1.37068183, -0.93409037],\n",
      "       [-0.80858765,  0.66658637,  0.64113328],\n",
      "       [-0.78792121, -0.28051883, -0.76878133],\n",
      "       [ 0.4705727 ,  0.08874905,  0.9397658 ]]), array([[-0.0081784 ,  0.29509861, -0.25412278, -0.09935774, -0.14484193,\n",
      "        -0.13568475, -0.586118  ,  0.170614  , -0.69236384,  0.52237566],\n",
      "       [-0.17791351, -0.41390523, -0.16792378, -0.5098136 ,  0.12390577,\n",
      "        -0.39226332, -0.42455571, -0.54403131, -0.00151121, -0.48064087],\n",
      "       [-0.05537953,  0.5747969 ,  0.56335959,  0.47913198,  0.48555007,\n",
      "        -0.31720153,  0.11986629, -0.12236969,  0.02797047,  0.19710713]])]\n"
     ]
    }
   ],
   "source": [
    "# --- Phase d'entrainement\n",
    "print(n.weights)\n",
    "\n",
    "for i in range(1000):\n",
    "    for p in pat:\n",
    "        n.learn(p[0], p[1])\n",
    "         \n",
    "print(n.weights)"
   ]
  },
  {
   "cell_type": "code",
   "execution_count": 10,
   "metadata": {},
   "outputs": [
    {
     "name": "stdout",
     "output_type": "stream",
     "text": [
      "(0, 0, 0, 0) => [-0.  0.  0.  0.  0. -0. -0. -0. -0.  0.]\n",
      "(1, 0, 0, 0) => [ 0.  1.  0.  0.  0.  0.  0.  0. -0.  0.]\n",
      "(1, 0, 1, 0) => [-0.  0.  1.  0.  0. -0.  0. -0.  0. -0.]\n",
      "(0, 1, 1, 0) => [ 0.  0.  0.  1.  0.  0.  0.  0.  0.  0.]\n",
      "(0, 0, 1, 0) => [-0.  0.  0.  0.  1. -0.  0. -0.  0. -0.]\n",
      "(0, 1, 0, 1) => [ 0. -0. -0.  0. -0.  1.  0.  0.  0.  0.]\n",
      "(1, 0, 0, 1) => [ 0.  0.  0.  0. -0.  0.  1.  0.  0.  0.]\n",
      "(1, 1, 0, 0) => [ 0.  0. -0.  0. -0.  0.  0.  1. -0.  0.]\n",
      "(0, 0, 1, 1) => [-0. -0.  0.  0.  0. -0.  0. -0.  1. -0.]\n",
      "(0, 1, 0, 0) => [ 0.  0.  0.  0. -0.  0.  0.  0. -0.  1.]\n"
     ]
    }
   ],
   "source": [
    "# --- Test avant entrainement\n",
    "for p in pat:\n",
    "    print( p[0], \"=>\", n.predict(p[0]))"
   ]
  },
  {
   "cell_type": "code",
   "execution_count": 11,
   "metadata": {},
   "outputs": [
    {
     "name": "stdout",
     "output_type": "stream",
     "text": [
      "(0, 1, 0, 1) => [ 0. -0. -0.  0. -0.  1.  0.  0.  0.  0.]\n"
     ]
    }
   ],
   "source": [
    "print( (0,1,0,1), \"=>\", n.predict((0,1,0,1)))"
   ]
  },
  {
   "cell_type": "code",
   "execution_count": null,
   "metadata": {
    "collapsed": true
   },
   "outputs": [],
   "source": []
  }
 ],
 "metadata": {
  "kernelspec": {
   "display_name": "Python 3",
   "language": "python",
   "name": "python3"
  },
  "language_info": {
   "codemirror_mode": {
    "name": "ipython",
    "version": 3
   },
   "file_extension": ".py",
   "mimetype": "text/x-python",
   "name": "python",
   "nbconvert_exporter": "python",
   "pygments_lexer": "ipython3",
   "version": "3.6.3"
  }
 },
 "nbformat": 4,
 "nbformat_minor": 2
}
